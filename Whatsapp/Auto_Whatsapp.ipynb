{
 "cells": [
  {
   "cell_type": "code",
   "execution_count": 5,
   "metadata": {},
   "outputs": [
    {
     "name": "stdout",
     "output_type": "stream",
     "text": [
      "Collecting selenium\n",
      "  Downloading selenium-3.141.0-py2.py3-none-any.whl (904 kB)\n",
      "Requirement already satisfied: urllib3 in c:\\users\\aman2\\anaconda3\\lib\\site-packages (from selenium) (1.25.11)\n",
      "Installing collected packages: selenium\n",
      "Successfully installed selenium-3.141.0\n"
     ]
    }
   ],
   "source": [
    "!pip install selenium"
   ]
  },
  {
   "cell_type": "code",
   "execution_count": 1,
   "metadata": {
    "scrolled": false
   },
   "outputs": [
    {
     "name": "stdout",
     "output_type": "stream",
     "text": [
      "Scan the QR code\n",
      "Press 1 for sending multiple messages \n",
      "Press 2 to send an image or video \n",
      " Press 3  to exit\n",
      "3\n"
     ]
    }
   ],
   "source": [
    "from selenium import webdriver\n",
    "from time import sleep\n",
    "\n",
    "#get the driver for individual browser\n",
    "driver = webdriver.Chrome() # add the path to chrome driver \n",
    "\n",
    "#scan the QR code\n",
    "print(\"Scan the QR code\")\n",
    "driver.get(\"https://web.whatsapp.com/\")\n",
    "\n",
    "#send message function\n",
    "def Sendmsg():\n",
    "\n",
    "    #enter name of receiver\n",
    "    name = input(\"Enter the name of user or group : \")\n",
    "    #enter the message\n",
    "    msg = input(\"Enter the message : \")\n",
    "    #enter the count\n",
    "    count = int(input(\"Enter Number of count : \"))\n",
    "\n",
    "    user = driver.find_element_by_xpath('//span[@title = \"{}\"]'.format(name))\n",
    "    user.click()\n",
    "\n",
    "    msg_box = driver.find_element_by_xpath('//*[@id=\"main\"]/footer/div[1]/div[2]/div/div[2]')\n",
    "\n",
    "    for i in range(count):\n",
    "        msg_box.send_keys(msg)\n",
    "        button = driver.find_element_by_xpath('//*[@id=\"main\"]/footer/div[1]/div[3]')\n",
    "        button.click()\n",
    "\n",
    "#send image or video file function\n",
    "def sendimgvid():\n",
    "    #enter name of receiver\n",
    "    name = input(\"Enter the name of user or group : \")\n",
    "    #enter file path\n",
    "    filepath = input(\"Enter the file path (Image,Video) : \")\n",
    "\n",
    "    user = driver.find_element_by_xpath('//span[@title = \"{}\"]'.format(name))\n",
    "    user.click()\n",
    "\n",
    "    attachment_box = driver.find_element_by_xpath('//div[@title = \"Attach\"]')\n",
    "    attachment_box.click()\n",
    "\n",
    "    imgvid_box = driver.find_element_by_xpath('//input[@accept=\"image/*,video/mp4,video/3gpp,video/quicktime\"]')\n",
    "    imgvid_box.send_keys(filepath)\n",
    "\n",
    "    sleep(3)\n",
    "\n",
    "    send_button = driver.find_element_by_xpath('//span[@data-icon=\"send-light\"]')\n",
    "    send_button.click()\n",
    "\n",
    "#user input\n",
    "print(\"Press 1 for sending multiple messages \\nPress 2 to send an image or video \\n Press 3  to exit\")\n",
    "n = int(input())\n",
    "if (n == 1):\n",
    "    Sendmsg()\n",
    "\n",
    "elif(n == 2):\n",
    "    sendimgvid()\n",
    "\n",
    "elif(n==3):\n",
    "    quit()"
   ]
  },
  {
   "cell_type": "code",
   "execution_count": null,
   "metadata": {},
   "outputs": [],
   "source": []
  }
 ],
 "metadata": {
  "kernelspec": {
   "display_name": "Python 3",
   "language": "python",
   "name": "python3"
  },
  "language_info": {
   "codemirror_mode": {
    "name": "ipython",
    "version": 3
   },
   "file_extension": ".py",
   "mimetype": "text/x-python",
   "name": "python",
   "nbconvert_exporter": "python",
   "pygments_lexer": "ipython3",
   "version": "3.8.5"
  }
 },
 "nbformat": 4,
 "nbformat_minor": 4
}
